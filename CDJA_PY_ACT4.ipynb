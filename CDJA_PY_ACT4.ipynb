{
  "nbformat": 4,
  "nbformat_minor": 0,
  "metadata": {
    "colab": {
      "provenance": [],
      "authorship_tag": "ABX9TyObf4d4eagzx7LlRME76GE5",
      "include_colab_link": true
    },
    "kernelspec": {
      "name": "python3",
      "display_name": "Python 3"
    },
    "language_info": {
      "name": "python"
    }
  },
  "cells": [
    {
      "cell_type": "markdown",
      "metadata": {
        "id": "view-in-github",
        "colab_type": "text"
      },
      "source": [
        "<a href=\"https://colab.research.google.com/github/JoseCejaD/LAB-PYTHON/blob/main/CDJA_PY_ACT4.ipynb\" target=\"_parent\"><img src=\"https://colab.research.google.com/assets/colab-badge.svg\" alt=\"Open In Colab\"/></a>"
      ]
    },
    {
      "cell_type": "code",
      "execution_count": 1,
      "metadata": {
        "colab": {
          "base_uri": "https://localhost:8080/"
        },
        "collapsed": true,
        "id": "NpH9vy3T0yhE",
        "outputId": "224b330f-bacb-48d2-9697-5b20264d7544"
      },
      "outputs": [
        {
          "output_type": "stream",
          "name": "stdout",
          "text": [
            "103 Es un numero impar\n",
            "148 Es un numero par\n",
            "127 Es un numero impar\n",
            "176 Es un numero par\n",
            "160 Es un numero par\n",
            "30 Es un numero par\n",
            "200 Es un numero par\n",
            "102 Es un numero par\n",
            "99 Es un numero impar\n",
            "48 Es un numero par\n",
            "79 Es un numero impar\n",
            "28 Es un numero par\n",
            "91 Es un numero impar\n",
            "142 Es un numero par\n",
            "65 Es un numero impar\n",
            "133 Es un numero impar\n",
            "13 Es un numero impar\n",
            "7 Es un numero impar\n",
            "146 Es un numero par\n",
            "79 Es un numero impar\n",
            "112 Es un numero par\n",
            "81 Es un numero impar\n",
            "110 Es un numero par\n",
            "79 Es un numero impar\n",
            "80 Es un numero par\n",
            "192 Es un numero par\n",
            "182 Es un numero par\n",
            "59 Es un numero impar\n",
            "168 Es un numero par\n",
            "10 Es un numero par\n",
            "26 Es un numero par\n",
            "64 Es un numero par\n",
            "39 Es un numero impar\n",
            "9 Es un numero impar\n",
            "17 Es un numero impar\n",
            "110 Es un numero par\n",
            "133 Es un numero impar\n",
            "107 Es un numero impar\n",
            "33 Es un numero impar\n",
            "188 Es un numero par\n",
            "la cantidad de numero pares son 21 y las sumas de estos son 2422\n",
            "la cantidad de numeros impares son 19 y las suma de estos son 2267\n"
          ]
        }
      ],
      "source": [
        "# Jose Antonio Ceja Diaz\n",
        "# 11/09/24\n",
        "# Pograma que te genera 40 numeros de los cuales se clasifican en pares e impares, imprime la suma de los pares e impares\n",
        "# asi como la cantidad de numeros pares e impares\n",
        "# CDJA_ACT4_01.py\n",
        "\n",
        "import random\n",
        "suma1=0\n",
        "suma=0\n",
        "par=0\n",
        "imp=0\n",
        "for ale in range(40):\n",
        "    ale = random.randint(0,200)\n",
        "    if (ale%2 == 0):\n",
        "        print(f\"{ale} Es un numero par\")\n",
        "        par+=1\n",
        "        suma=suma+ale\n",
        "    else:\n",
        "        print(f\"{ale} Es un numero impar\")\n",
        "        imp+=1\n",
        "        suma1=suma+ale\n",
        "print(f\"la cantidad de numero pares son {par} y las sumas de estos son {suma}\")\n",
        "print(f\"la cantidad de numeros impares son {imp} y las suma de estos son {suma1}\")"
      ]
    },
    {
      "cell_type": "code",
      "source": [
        "# Jose Antonio Ceja Diaz\n",
        "# 11/09/24\n",
        "# Pograma que te imprime la tabla de multiplicar de los numeros del 1 al 20\n",
        "# CDJA_ACT4_02.py\n",
        "\n",
        "num = int(input(\"Ingresa un numero entre el 1 y el 20: \"))\n",
        "for i in range(11):\n",
        "    res = num*i\n",
        "    print(f\"{num} * {i} = {res}\")"
      ],
      "metadata": {
        "colab": {
          "base_uri": "https://localhost:8080/"
        },
        "id": "Ie0lgVTRyze4",
        "outputId": "bea8790b-95dc-4304-b7aa-4924ba015e9e"
      },
      "execution_count": 2,
      "outputs": [
        {
          "output_type": "stream",
          "name": "stdout",
          "text": [
            "Ingresa un numero entre el 1 y el 20: 5\n",
            "5 * 0 = 0\n",
            "5 * 1 = 5\n",
            "5 * 2 = 10\n",
            "5 * 3 = 15\n",
            "5 * 4 = 20\n",
            "5 * 5 = 25\n",
            "5 * 6 = 30\n",
            "5 * 7 = 35\n",
            "5 * 8 = 40\n",
            "5 * 9 = 45\n",
            "5 * 10 = 50\n"
          ]
        }
      ]
    },
    {
      "cell_type": "code",
      "source": [
        "# Jose Antonio Ceja Diaz\n",
        "# 11/09/24\n",
        "# Pograma que lee una calificacion e imprime si es aprobatoria o reprobatoria\n",
        "# CDJA_ACT4_03.py\n",
        "import random\n",
        "try:\n",
        "    cal = int(input(\"Ingrese calificacion: \"))\n",
        "    if cal > 60:\n",
        "      print(\"aprobado\")\n",
        "    else:\n",
        "      print(\"reprobado\")\n",
        "except:\n",
        "    print(\"error de captura\")"
      ],
      "metadata": {
        "colab": {
          "base_uri": "https://localhost:8080/"
        },
        "id": "SgeUPoad3n5E",
        "outputId": "0110326e-60ef-46f8-a2ab-b9b67344b147"
      },
      "execution_count": 23,
      "outputs": [
        {
          "output_type": "stream",
          "name": "stdout",
          "text": [
            "Ingrese calificacion: asd\n",
            "error de captura\n"
          ]
        }
      ]
    },
    {
      "cell_type": "code",
      "source": [
        "# Jose Antonio Ceja Diaz\n",
        "# 11/09/24\n",
        "# Pograma que te da la suma y la media de un rango de numeros dado por el usuario\n",
        "# CDJA_ACT4_04.py\n",
        "try:\n",
        "    sum=0\n",
        "    rango=int(input(\"ingresa el rango de numeros que quieres leer \\n\"))\n",
        "    for num in range(rango):\n",
        "        num = int(input(\"Ingresa un numero entero diferente de 0: \"))\n",
        "        if(num == 0):\n",
        "          break\n",
        "        sum=sum+num\n",
        "        media = sum/rango\n",
        "    print(f\"la suma de los numeros fueron {sum} y la media fue {media}\")\n",
        "except:\n",
        "    print(\"ingresa un numero\")"
      ],
      "metadata": {
        "id": "2EY1zoMH6UGd",
        "colab": {
          "base_uri": "https://localhost:8080/"
        },
        "outputId": "ff6a0b25-4fca-48f3-ab6e-10af7a7677d3"
      },
      "execution_count": 4,
      "outputs": [
        {
          "output_type": "stream",
          "name": "stdout",
          "text": [
            "ingresa el rango de numeros que quieres leer3\n",
            "Ingresa un numero entero diferente de 0: 2\n",
            "Ingresa un numero entero diferente de 0: 4\n",
            "Ingresa un numero entero diferente de 0: 3\n",
            "la suma de los numeros fueron 9 y la media fue 3.0\n"
          ]
        }
      ]
    },
    {
      "cell_type": "code",
      "source": [
        "# Jose Antonio Ceja Diaz\n",
        "# 11/09/24\n",
        "# Pograma que lee el promedio de una materia y detecta si se reprobo cierta cantidad de veces\n",
        "# CDJA_ACT4_05.py\n",
        "try:\n",
        "    i=0\n",
        "    for promedio in range(3):\n",
        "        promedio = int(input(\"ingresa el promedio obtenido: \"))\n",
        "        if (promedio >=60 ):\n",
        "            print(\"aprobado, continua al siguiente semestre\")\n",
        "            break\n",
        "        else:\n",
        "            i+=1\n",
        "            if(i<3):\n",
        "                print(\"repetir materia\")\n",
        "            else:\n",
        "                print(\"baja academica\")\n",
        "except:\n",
        "    print(\"ingresa un numero\")\n"
      ],
      "metadata": {
        "id": "vTEqRc6b7QND",
        "colab": {
          "base_uri": "https://localhost:8080/"
        },
        "outputId": "c08a6c91-2478-4285-85ff-fc9403bf5dfd"
      },
      "execution_count": 8,
      "outputs": [
        {
          "output_type": "stream",
          "name": "stdout",
          "text": [
            "ingresa el promedio obtenido: sedf\n",
            "ingresa un numero\n"
          ]
        }
      ]
    },
    {
      "cell_type": "code",
      "source": [
        "# Jose Antonio Ceja Diaz\n",
        "# 11/09/24\n",
        "# Pograma que te genera numeros aleatorios hasta donde el usuario desee\n",
        "# e imprime el numero maximo, minimo y la suma de los numeros\n",
        "# CDJA_ACT4_06.py\n",
        "\n",
        "import random\n",
        "\n",
        "def numeros(n1=0,suma=0):\n",
        "    lista = []\n",
        "    while True:\n",
        "      try:\n",
        "         n1 = int(input(\"ingresa un numero: (si deseas salir ingresa 0)\\n\"))\n",
        "         if(n1 != 0):\n",
        "            lista.append(n1)\n",
        "         else:\n",
        "            return lista\n",
        "      except:\n",
        "          print(\"ingresa un valor numerico\")\n",
        "          continue\n",
        "\n",
        "x = numeros()\n",
        "minimo = min(x)\n",
        "maximo = max(x)\n",
        "suma = sum(x)\n",
        "print(f\"el maximo fue: {maximo}\\nminimo fue: {minimo}\\nla suma fue: {suma}\")"
      ],
      "metadata": {
        "colab": {
          "base_uri": "https://localhost:8080/"
        },
        "id": "vz23CxWE4532",
        "outputId": "0c914a6e-9f04-4a86-ab82-a92b4db5cb6c"
      },
      "execution_count": 1,
      "outputs": [
        {
          "output_type": "stream",
          "name": "stdout",
          "text": [
            "ingresa un numero: (si deseas salir ingresa 0)\n",
            "5\n",
            "ingresa un numero: (si deseas salir ingresa 0)\n",
            "6\n",
            "ingresa un numero: (si deseas salir ingresa 0)\n",
            "4\n",
            "ingresa un numero: (si deseas salir ingresa 0)\n",
            "7\n",
            "ingresa un numero: (si deseas salir ingresa 0)\n",
            "0\n",
            "el maximo fue: 7\n",
            "minimo fue: 4\n",
            "la suma fue: 22\n"
          ]
        }
      ]
    },
    {
      "cell_type": "code",
      "source": [
        "# Jose Antonio Ceja Diaz\n",
        "# 11/09/24\n",
        "# pograma que lee un rango y verifica si un numero ingresado esta dentro del rango asi como la suma de los numeros\n",
        "# CDJA_ACT4_08.py\n",
        "\n",
        "def numero(rmax=0,rmin=0,i=0):\n",
        "    try:\n",
        "        rmin = int(input(\"ingresa el rango minimo: \"))\n",
        "        rmax = int(input(\"ingresa el rango maximo: \"))\n",
        "        lista = []\n",
        "        while True:\n",
        "            num = int(input(f\"ingresa un numero entre {rmin} y {rmax} :\"))\n",
        "            if(num<=rmax and num>=rmin):\n",
        "                i=i+1\n",
        "                lista.append(num)\n",
        "            else:\n",
        "                print(\"fuera del rango\")\n",
        "                return lista\n",
        "                return i\n",
        "    except:\n",
        "          print(\"ingresa un numero valido\")\n",
        "x = numero()\n",
        "print(x)\n",
        "suma = sum(x)\n",
        "print(f\" la suma fue: {suma} y la cantidad de numeros fueron {i}\")"
      ],
      "metadata": {
        "colab": {
          "base_uri": "https://localhost:8080/"
        },
        "id": "KnMkSAaqlGOM",
        "outputId": "fceb69dc-5665-44a4-8912-b4f474e24766"
      },
      "execution_count": 21,
      "outputs": [
        {
          "output_type": "stream",
          "name": "stdout",
          "text": [
            "ingresa el rango minimo: 1\n",
            "ingresa el rango maximo: 5\n",
            "ingresa un numero entre 1 y 5 :2\n",
            "ingresa un numero entre 1 y 5 :3\n",
            "ingresa un numero entre 1 y 5 :4\n",
            "ingresa un numero entre 1 y 5 :5\n",
            "ingresa un numero entre 1 y 5 :6\n",
            "fuera del rango\n",
            "[2, 3, 4, 5]\n",
            " la suma fue: 14 y la cantidad de numeros fueron 0\n"
          ]
        }
      ]
    },
    {
      "cell_type": "code",
      "source": [
        "# Jose Antonio Ceja Diaz\n",
        "# 11/09/24\n",
        "# pograma que utilize una funcion para calcular el area de un triangulo\n",
        "# CDJA_ACT4_09.py\n",
        "\n",
        "def area(h=0,b=0):\n",
        "    try:\n",
        "        h = int(input(\"ingresa el valor de la altura: \"))\n",
        "        b = int(input(\"ingresa el valor de la base: \"))\n",
        "\n",
        "        return print(f\"el valor del area es de: {b*h/2}\")\n",
        "    except:\n",
        "        print(\"ingresa un numero valido\")\n",
        "area_total = area()\n"
      ],
      "metadata": {
        "colab": {
          "base_uri": "https://localhost:8080/"
        },
        "id": "jVR-cHullwST",
        "outputId": "dd2a2bfb-be04-4594-e9e7-5482e4815d18"
      },
      "execution_count": 2,
      "outputs": [
        {
          "output_type": "stream",
          "name": "stdout",
          "text": [
            "ingresa el valor de la altura: 5\n",
            "ingresa el valor de la base: 6\n",
            "el valor del area es de: 15.0\n"
          ]
        }
      ]
    },
    {
      "cell_type": "code",
      "source": [
        "# Jose Antonio Ceja Diaz\n",
        "# 11/09/24\n",
        "# pograma que lea un numero y verifique si se encuetra dentro de un rango dado\n",
        "# CDJA_ACT4_10.py\n",
        "\n",
        "def numero(rmax=0,rmin=0):\n",
        "    try:\n",
        "        rmin = int(input(\"ingresa el rango minimo: \"))\n",
        "        rmax = int(input(\"ingresa el rango maximo: \"))\n",
        "\n",
        "        while True:\n",
        "            num = int(input(f\"ingresa un numero entre {rmin} y {rmax} :\"))\n",
        "            if(num<=rmax and num>=rmin):\n",
        "                print(\"se encuentra dentro del rango\")\n",
        "                return num\n",
        "            else:\n",
        "                print(\"fuera del rango\")\n",
        "    except:\n",
        "          print(\"ingresa un numero valido\")\n",
        "\n",
        "x = numero()"
      ],
      "metadata": {
        "colab": {
          "base_uri": "https://localhost:8080/"
        },
        "id": "_5aWYprDmjVn",
        "outputId": "86b804c0-a60e-4cfd-ff34-f61d73ddfbd6"
      },
      "execution_count": 16,
      "outputs": [
        {
          "output_type": "stream",
          "name": "stdout",
          "text": [
            "ingresa el rango minimo: 1\n",
            "ingresa el rango maximo: 6\n",
            "ingresa un numero entre 1 y 6 :8\n",
            "fuera del rango\n",
            "ingresa un numero entre 1 y 6 :1\n",
            "se encuentra dentro del rango\n"
          ]
        }
      ]
    }
  ]
}