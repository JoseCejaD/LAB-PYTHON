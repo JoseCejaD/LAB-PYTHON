{
  "nbformat": 4,
  "nbformat_minor": 0,
  "metadata": {
    "colab": {
      "provenance": [],
      "authorship_tag": "ABX9TyOr35M+0ZHIIl0iS2JZzJxp",
      "include_colab_link": true
    },
    "kernelspec": {
      "name": "python3",
      "display_name": "Python 3"
    },
    "language_info": {
      "name": "python"
    }
  },
  "cells": [
    {
      "cell_type": "markdown",
      "metadata": {
        "id": "view-in-github",
        "colab_type": "text"
      },
      "source": [
        "<a href=\"https://colab.research.google.com/github/JoseCejaD/LAB-PYTHON/blob/main/CDJA_PY_ACT5.ipynb\" target=\"_parent\"><img src=\"https://colab.research.google.com/assets/colab-badge.svg\" alt=\"Open In Colab\"/></a>"
      ]
    },
    {
      "cell_type": "code",
      "execution_count": 14,
      "metadata": {
        "colab": {
          "base_uri": "https://localhost:8080/"
        },
        "id": "tp0nehoXrF4v",
        "outputId": "e9ff75e1-bbc4-4dd3-9f65-7f75d9803195"
      },
      "outputs": [
        {
          "output_type": "stream",
          "name": "stdout",
          "text": [
            "ingresa un nombre de mascota, artista o persona (maximo 10): poleis\n",
            "ingresa un nombre de mascota, artista o persona (maximo 10): Peponcio\n",
            "ingresa un nombre de mascota, artista o persona (maximo 10): shasha grey\n",
            "ingresa un nombre de mascota, artista o persona (maximo 10): luis miguel\n",
            "ingresa un nombre de mascota, artista o persona (maximo 10): curly\n",
            "ingresa un nombre de mascota, artista o persona (maximo 10): chayane\n",
            "ingresa un nombre de mascota, artista o persona (maximo 10): salir\n",
            " [0]poleis ----> 6 caracteres\n",
            " [1]Peponcio ----> 8 caracteres\n",
            " [2]shasha grey ----> 11 caracteres\n",
            " [3]luis miguel ----> 11 caracteres\n",
            " [4]curly ----> 5 caracteres\n",
            " [5]chayane ----> 7 caracteres\n"
          ]
        }
      ],
      "source": [
        "# Jose Antonio Ceja Diaz\n",
        "# 01/10/24\n",
        "# pograma que tenga una funcion para leer caracteres y desplegar la cantidad de digitos que tiene\n",
        "# CDJA_ACT5_01.py\n",
        "\n",
        "\n",
        "def Caracteres():\n",
        "    num_list = []\n",
        "    # ciclo para introducir los numeros\n",
        "    while True:\n",
        "      try:\n",
        "          nombre = input(\"ingresa un nombre de mascota, artista o persona (maximo 10): \")\n",
        "      except TypeError:\n",
        "          print(\"error, ingresa una cadena\")\n",
        "          continue\n",
        "\n",
        "      tam = len(num_list)\n",
        "\n",
        "      if(nombre == 'salir'): # verifica que si el usuario haya ingresado minimo 5 cadenas antes de salir\n",
        "          if(tam <5):\n",
        "              print(\"agrega minimo 5 nombres\") # lo regresa al ciclo si ingreso menos de 5 cadenas\n",
        "              continue\n",
        "          else:\n",
        "                break # termina en caso de que haya ingresado mas de 5\n",
        "      elif(tam==10):# verifica que no sea 10\n",
        "          break\n",
        "\n",
        "      # si cumple con las condiciones, entonces lo agrega\n",
        "      num_list.append(nombre)\n",
        "\n",
        "    # ciclo para imprimir las cadenas una vez que se detenga el ciclo anterior\n",
        "    for i, cadena in enumerate(num_list):\n",
        "          print(f\" {[i]}{cadena} ----> {len(cadena)} caracteres\")\n",
        "\n",
        "Caracteres()"
      ]
    },
    {
      "cell_type": "code",
      "source": [
        "# Jose Antonio Ceja Diaz\n",
        "# 01/10/24\n",
        "# pograma que almacene numeros random entre 30 y 50 en una lista sin repeticiones\n",
        "# CDJA_ACT5_02.py\n",
        "\n",
        "import random\n",
        "\n",
        "# funcion para generar los numeros aleatorios\n",
        "def num():\n",
        "      # la variable ale almacena los numeros en forma de lista\n",
        "      ale = list(range(30,50))\n",
        "\n",
        "      # se reorganiza la lista con .sample para evitar repetir numeros\n",
        "      lista = random.sample(ale,10) # se seleccionan solo 10 numeros\n",
        "      return lista\n",
        "\n",
        "# funcion que imprime los numeros\n",
        "def impre_list():\n",
        "\n",
        "    # ciclo que imprime los numeros recibidos de la funcion anterior\n",
        "    for i,numero in enumerate(num()):\n",
        "        print(f\" {[i]}{numero}\")\n",
        "\n",
        "impre_list()"
      ],
      "metadata": {
        "colab": {
          "base_uri": "https://localhost:8080/"
        },
        "id": "cBh3oYuK0Zbv",
        "outputId": "d92ac3af-b9ff-4848-e0f6-b9a45dcf495e"
      },
      "execution_count": 6,
      "outputs": [
        {
          "output_type": "stream",
          "name": "stdout",
          "text": [
            " [0]30\n",
            " [1]43\n",
            " [2]34\n",
            " [3]47\n",
            " [4]39\n",
            " [5]35\n",
            " [6]38\n",
            " [7]33\n",
            " [8]32\n",
            " [9]37\n"
          ]
        }
      ]
    },
    {
      "cell_type": "code",
      "source": [
        "# Jose Antonio Ceja Diaz\n",
        "# 01/10/24\n",
        "# pograma que almence dos listas del mismo tamana y en una nueva lista realizar la suma\n",
        "# si no son del mismo tamano, utiliza la que sea la lista mas chica\n",
        "# CDJA_ACT5_03.py\n",
        "\n",
        "\n",
        "# funcion para generar los numeros de las listas\n",
        "def numeros(lista):\n",
        "      while True:\n",
        "        num = input()\n",
        "        if(num == 'salir'):\n",
        "            break\n",
        "        try:\n",
        "            # convierte la entrada en entero y lo agrega a la lista\n",
        "            num_conv = int(num)\n",
        "            lista.append(num_conv)\n",
        "        except ValueError:\n",
        "            # en caso de que ingrese algun caracter, manda el error\n",
        "            print(\"Ingresa un numero entero\")\n",
        "\n",
        "\n",
        "# funcion que realiza la comparacion de las listas y hace las sumas\n",
        "def cadena():\n",
        "\n",
        "    # se declaran las 3 listas\n",
        "    lista1 = []\n",
        "    lista2 = []\n",
        "    lista3 = []\n",
        "\n",
        "    # se ingresan los datos de las dos listas con la funcion numeros\n",
        "    print(\"ingresa los elementos de la primer lista (escribe 'salir' para salir):\")\n",
        "    numeros(lista1)\n",
        "    print(\"ingresa los elementos de la segunda lista (escribe 'salir' para salir):\")\n",
        "    numeros(lista2)\n",
        "\n",
        "    # se leen el tamano de las dos listas\n",
        "    tam1 = len(lista1)\n",
        "    tam2 = len(lista2)\n",
        "\n",
        "    # realiza la comparacion de tamanos, en caso de que no sean igual se utiliza el tamano de\n",
        "    # la lista mas pequena\n",
        "    if (tam1 > tam2):\n",
        "\n",
        "        # se rellena la lista 3 con los datos de la lista 2\n",
        "        for i in range(tam2):\n",
        "            lista3.append(lista2[i])\n",
        "\n",
        "        # se realiza la suma con la lista de mayor tamano y se almacena en la lista 3\n",
        "        for i in range(len(lista3)):\n",
        "            lista3[i] = lista3[i] + lista1[i]\n",
        "        print(f\"se utilizo la lista{lista2} ya que es la lista con menos elementos\")\n",
        "\n",
        "    elif(tam1<tam2):\n",
        "\n",
        "        # se rellena la lista 3 con los datos de la lista 1\n",
        "        for i in range(tam1):\n",
        "            lista3.append(lista1[i])\n",
        "\n",
        "        # se realiza la suma con la lista de mayor tamano y se almacena en la lista 3\n",
        "        for i in range(tam1):\n",
        "            lista3[i] = lista3[i] + lista2[i]\n",
        "        print(f\"se utilizo la lista{lista1} ya que es la lista con menos elementos\")\n",
        "\n",
        "    else:\n",
        "        for i in range(tam1):\n",
        "            lista3.append(lista1[i]+lista2[i])\n",
        "\n",
        "    print(f\"la suma de tus listas fue: {lista3}\")\n",
        "cadena()\n"
      ],
      "metadata": {
        "colab": {
          "base_uri": "https://localhost:8080/"
        },
        "id": "nDmaLR2X9l5z",
        "outputId": "1bbb5c3f-0daa-4084-a5dd-dbf98ca7ccd8"
      },
      "execution_count": 16,
      "outputs": [
        {
          "output_type": "stream",
          "name": "stdout",
          "text": [
            "ingresa los elementos de la primer lista (escribe 'salir' para salir):\n",
            "4\n",
            "6\n",
            "4\n",
            "salir\n",
            "ingresa los elementos de la segunda lista (escribe 'salir' para salir):\n",
            "4\n",
            "5\n",
            "3\n",
            "7\n",
            "salir\n",
            "se utilizo la lista[4, 6, 4] ya que es la lista con menos elementos\n",
            "la suma de tus listas fue: [8, 11, 7]\n"
          ]
        }
      ]
    },
    {
      "cell_type": "code",
      "source": [
        "# Jose Antonio Ceja Diaz\n",
        "# 01/10/24\n",
        "# pograma que tenga una funcion la cual elimina elementos duplicados de una lista recibida\n",
        "# e imprima la lista sin duplicados\n",
        "# CDJA_ACT5_04.py\n",
        "\n",
        "\n",
        "# funcion para eliminar los numeros duplicados\n",
        "def eliminar_duplicados(lista_normal,tamlist):\n",
        "\n",
        "    # recibe de parametro una lista, usando set, elimina los duplicaados y los ingresa en una nueva lista\n",
        "    lista_sinrep = list(set(lista_normal))\n",
        "    return lista_sinrep\n",
        "\n",
        "# se incializa la lista\n",
        "lista_normal= []\n",
        "while True:\n",
        "    num = input(\"Ingresa un numero o escribe 'salir': \")\n",
        "    if(num == 'salir'):\n",
        "        break\n",
        "    try:\n",
        "        # convierte la entrada en entero y lo agrega a la lista\n",
        "        num_conv = int(num)\n",
        "        lista_normal.append(num_conv)\n",
        "    except ValueError:\n",
        "        # en caso de que ingrese algun caracter, manda el error\n",
        "        print(\"Ingresa un numero entero\")\n",
        "\n",
        "# lee el tamano de la lista\n",
        "tamlist = len(lista_normal)\n",
        "\n",
        "# se manda a llamar la funcion con la lista principal ya llenada y se imprime la lista sin los duplicados\n",
        "print(\"la lista sin repetir es: \", eliminar_duplicados(lista_normal,tamlist))"
      ],
      "metadata": {
        "colab": {
          "base_uri": "https://localhost:8080/"
        },
        "id": "oDwE2uUpGIGM",
        "outputId": "c3a536a0-d75b-4b50-e9e1-ea645af2c900"
      },
      "execution_count": 12,
      "outputs": [
        {
          "output_type": "stream",
          "name": "stdout",
          "text": [
            "Ingresa un numero o escribe 'salir': 1\n",
            "Ingresa un numero o escribe 'salir': 3\n",
            "Ingresa un numero o escribe 'salir': 2\n",
            "Ingresa un numero o escribe 'salir': 3\n",
            "Ingresa un numero o escribe 'salir': 4\n",
            "Ingresa un numero o escribe 'salir': salir\n",
            "la lista sin repetir es:  [1, 2, 3, 4]\n"
          ]
        }
      ]
    },
    {
      "cell_type": "code",
      "source": [
        "# Jose Antonio Ceja Diaz\n",
        "# 01/10/24\n",
        "# pograma que calcula la media y la mediana en una funcion\n",
        "# CDJA_ACT5_05.py\n",
        "\n",
        "\n",
        "# funcion para calcular la media\n",
        "def media(lista_normal,tamlist):\n",
        "    media = ((sum(lista_normal))/tamlist)\n",
        "    return media\n",
        "\n",
        "# funcion para calcular la mediana\n",
        "def mediana(lista_normal,tamlist):\n",
        "    # se ordena la lista de menor a mayor con sort\n",
        "    lista_normal.sort()\n",
        "\n",
        "    # se compara si la lista es par o impar\n",
        "    if(tamlist % 2 == 0):\n",
        "        # se calcula x para sacar los dos valores centrales\n",
        "        x = int(tamlist/2)\n",
        "\n",
        "        # se le resta 1 a x para que el valor que tome en la lista sea el correcto\n",
        "        media_arit = (lista_normal[x]+lista_normal[x-1])/2\n",
        "    else:\n",
        "        x = int((tamlist)/2)\n",
        "        media_arit = lista_normal[x]\n",
        "    return media_arit\n",
        "\n",
        "lista_normal= []\n",
        "while True:\n",
        "    num = input(\"Ingresa un numero o escribe 'salir': \")\n",
        "    if(num == 'salir'):\n",
        "        break\n",
        "    try:\n",
        "        # convierte la entrada en entero y lo agrega a la lista\n",
        "        num_conv = int(num)\n",
        "        lista_normal.append(num_conv)\n",
        "    except ValueError:\n",
        "\n",
        "        # en caso de que ingrese algun caracter, manda el error\n",
        "        print(\"Ingresa un numero entero\")\n",
        "\n",
        "tamlist = len(lista_normal)\n",
        "print(f\"para la lista{lista_normal} la media es: {media(lista_normal, tamlist)} mientras que la mediana es: {mediana(lista_normal,tamlist)}\")"
      ],
      "metadata": {
        "colab": {
          "base_uri": "https://localhost:8080/"
        },
        "id": "ZjG8_tS0fC9T",
        "outputId": "b788461f-6896-4ace-bfd2-afe76aa645bf"
      },
      "execution_count": 13,
      "outputs": [
        {
          "output_type": "stream",
          "name": "stdout",
          "text": [
            "Ingresa un numero o escribe 'salir': 5\n",
            "Ingresa un numero o escribe 'salir': 6\n",
            "Ingresa un numero o escribe 'salir': 2\n",
            "Ingresa un numero o escribe 'salir': 4\n",
            "Ingresa un numero o escribe 'salir': salir\n",
            "para la lista[5, 6, 2, 4] la media es: 4.25 mientras que la mediana es : 4.5\n"
          ]
        }
      ]
    }
  ]
}