{
  "nbformat": 4,
  "nbformat_minor": 0,
  "metadata": {
    "colab": {
      "provenance": [],
      "authorship_tag": "ABX9TyOTKmmJq87Louwby3wnAiNS",
      "include_colab_link": true
    },
    "kernelspec": {
      "name": "python3",
      "display_name": "Python 3"
    },
    "language_info": {
      "name": "python"
    }
  },
  "cells": [
    {
      "cell_type": "markdown",
      "metadata": {
        "id": "view-in-github",
        "colab_type": "text"
      },
      "source": [
        "<a href=\"https://colab.research.google.com/github/JoseCejaD/LAB-PYTHON/blob/main/CDJA_PY_ACT3.ipynb\" target=\"_parent\"><img src=\"https://colab.research.google.com/assets/colab-badge.svg\" alt=\"Open In Colab\"/></a>"
      ]
    },
    {
      "cell_type": "markdown",
      "source": [],
      "metadata": {
        "id": "RS6FPL_TdVTu"
      }
    },
    {
      "cell_type": "code",
      "execution_count": null,
      "metadata": {
        "id": "fmOTj6ZuiJnX",
        "colab": {
          "base_uri": "https://localhost:8080/"
        },
        "outputId": "e3ff279e-637a-4206-b154-53572541dce1"
      },
      "outputs": [
        {
          "output_type": "stream",
          "name": "stdout",
          "text": [
            "Ingresa la calificacion numero 1: 2234\n",
            "Ingresa la calificacion numero 2: 23423\n",
            "Ingresa la calificacion numero 3: 2342\n",
            "error en promedio\n"
          ]
        }
      ],
      "source": [
        "# Jose Antonio Ceja Diaz\n",
        "# 26/08/24\n",
        "# Realizar un promedio de 3 calificaciones y en base al promedio imprimir ciertos mensajes\n",
        "# CDJA_ACT3_01.py\n",
        "try:\n",
        "  cal1 = int(input(\"Ingresa la calificacion numero 1: \"))\n",
        "  cal2 = int(input(\"Ingresa la calificacion numero 2: \"))\n",
        "  cal3 = int(input(\"Ingresa la calificacion numero 3: \"))\n",
        "\n",
        "  prom = (cal1+cal2+cal3)/3\n",
        "except:\n",
        "  print(\"Ingresa un numero entero\")\n",
        "else:\n",
        "  if(prom<30):\n",
        "      print(\"repetir\")\n",
        "  elif(prom<60):\n",
        "      print(\"extraordinario\")\n",
        "  elif(prom<70):\n",
        "      print(\"suficiente\")\n",
        "  elif(prom<80):\n",
        "      print(\"regular\")\n",
        "  elif(prom<90):\n",
        "      print(\"bien\")\n",
        "  elif(prom<98):\n",
        "      print(\"muy bien\")\n",
        "  elif(prom<=100):\n",
        "      print(\"excelente\")\n",
        "  else:\n",
        "    print(\"error en promedio\")"
      ]
    },
    {
      "cell_type": "code",
      "source": [
        "# Jose Antonio Ceja Diaz\n",
        "# 26/08/24\n",
        "# Calcular salarios en base a ciertas condiciones como las horas trabajadas y el salario por hora, ademas considerando un salario extra si se sobre pasa\n",
        "# cierta cantidad de horas a la semana\n",
        "# CDJA_ACT3_02.py\n",
        "try:\n",
        "    hrs_sem = int(input(\"Ingrese la cantidad de horas semanales trabajadas: \"))\n",
        "    sal_hr = int(input(\"ingrese el salario por hora: \"))\n",
        "\n",
        "    if (hrs_sem <=40):\n",
        "        sal_nom = hrs_sem*sal_hr\n",
        "        print(f\"el salario normal es de {sal_nom}, considerando que el salario por hora es de {sal_hr} y las horas trabajadas fueron {hrs_sem}\")\n",
        "    else:\n",
        "        if(hrs_sem <=49):\n",
        "          sal_nom = hrs_sem*sal_hr\n",
        "          sal_ext = sal_nom*2\n",
        "          print(f\"tu salario completo es de: {sal_ext} con un salario normal de {sal_nom}\")\n",
        "          print(f\"tu salario por hora es de {sal_hr} y las horas trabajadas fueron {hrs_sem}\")\n",
        "        elif(hrs_sem>=50):\n",
        "          sal_nom = hrs_sem*sal_hr\n",
        "          sal_ext = sal_nom*3\n",
        "          print(f\"tu salario completo es de: {sal_ext} con un salario normal de {sal_nom}\")\n",
        "          print(f\"tu salario por hora es de {sal_hr} y las horas trabajadas fueron {hrs_sem}\")\n",
        "except:\n",
        "    print(\"Ingrese una cantidad en numeros\")\n",
        "\n",
        "\n"
      ],
      "metadata": {
        "colab": {
          "base_uri": "https://localhost:8080/"
        },
        "id": "Q8hpwc-Cnz_g",
        "outputId": "1249282f-79b6-4b86-9e7c-626c07066b71"
      },
      "execution_count": null,
      "outputs": [
        {
          "output_type": "stream",
          "name": "stdout",
          "text": [
            "Ingrese la cantidad de horas semanales trabajadas: 45\n",
            "ingrese el salario por hora: 275\n",
            "tu salario completo es de: 24750 con un salario normal de 12375\n",
            "tu salario por hora es de 275 y las horas trabajadas fueron 45\n"
          ]
        }
      ]
    },
    {
      "cell_type": "code",
      "source": [
        "# Jose Antonio Ceja Diaz\n",
        "# 26/08/24\n",
        "# Aplicar una comision dependiendo del tipo de llmada hecha y la cantidad de tiempo en minutos\n",
        "# CDJA_ACT3_03.py\n",
        "\n",
        "print(\"selecciona el tipo de llamada realizada: \\n 1. Llamada local  2. Llamada nacional  3. Llamada internacional \\n\")\n",
        "tipo = int(input())\n",
        "\n",
        "if (tipo >=1 and tipo<=3):\n",
        "    minutos = int(input(\"ingrese la cantidad de minutos durados: \"))\n",
        "    if(tipo==1):\n",
        "      neto = minutos*3\n",
        "      sub_total = neto*0.16\n",
        "      total = sub_total+neto\n",
        "      print(f\"El total a pagar es de {total} considerando un iva de 16% y un subtotal de {sub_total}\")\n",
        "    elif(tipo==2):\n",
        "        if(minutos <=3):\n",
        "            neto = minutos*7\n",
        "            sub_total = neto*0.16\n",
        "            total = sub_total+neto\n",
        "            print(f\"El total a pagar es de {total} considerando un iva de 16% y un subtotal de {neto}\")\n",
        "        else:\n",
        "            neto = minutos*5\n",
        "            sub_total = neto*0.16\n",
        "            total = sub_total+neto\n",
        "            print(f\"El total a pagar es de {total} considerando un iva de 16% y un subtotal de {neto}\")\n",
        "    elif(tipo==3):\n",
        "        if(minutos<=2):\n",
        "            neto = minutos*9\n",
        "            sub_total = neto*0.16\n",
        "            total = sub_total+neto\n",
        "            print(f\"El total a pagar es de {total} considerando un iva de 16% y un subtotal de {neto}\")\n",
        "        else:\n",
        "            neto = minutos*13\n",
        "            sub_total = neto*0.16\n",
        "            total = sub_total+neto\n",
        "            print(f\"El total a pagar es de {total} considerando un iva de 16% y un subtotal de {neto}\")\n",
        "else:\n",
        "    print(\"ingrese una opcion valida\")\n"
      ],
      "metadata": {
        "colab": {
          "base_uri": "https://localhost:8080/"
        },
        "id": "403TTaQpuYsK",
        "outputId": "4a0daa4a-839a-478b-adf1-1b796341b670"
      },
      "execution_count": null,
      "outputs": [
        {
          "output_type": "stream",
          "name": "stdout",
          "text": [
            "selecciona el tipo de llamada realizada: \n",
            " 1. Llamada local  2. Llamada nacional  3. Llamada internacional \n",
            "\n",
            "1\n",
            "ingrese la cantidad de minutos durados: 50\n",
            "El total a pagar es de 24.0 considerando un iva de 16% y un subtotal de 150\n"
          ]
        }
      ]
    },
    {
      "cell_type": "code",
      "source": [
        "# Jose Antonio Ceja Diaz\n",
        "# 26/08/24\n",
        "# Calcular un recibo de agua dependiendo del consumo total aplicancion comisiones\n",
        "# CDJA_ACT3_04.py\n",
        "\n",
        "try:\n",
        "    agua = int(input(\"Ingrese la cantidad de agua en m3 consumida: \"))\n",
        "\n",
        "    if(agua<5):\n",
        "        valor_net = agua*0.16\n",
        "        total = valor_net\n",
        "        print(f\"El total es de {total} con facturacion de $50\")\n",
        "    elif(agua<16):\n",
        "        valor_net = (agua*8)\n",
        "        sub_total = valor_net*0.16\n",
        "        total = sub_total+valor_net\n",
        "        print(f\"El total a pagar es de {total} con un iva de %16 y con un subtotal de {valor_net} \")\n",
        "    elif(agua<50):\n",
        "        valor_net = (agua*10)\n",
        "        sub_total = valor_net*0.16\n",
        "        total = sub_total+valor_net\n",
        "        print(f\"El total a pagar es de {total} con un iva de %16 y con un subtotal de {valor_net} \")\n",
        "    elif(agua>=50):\n",
        "        valor_net = (agua*11)\n",
        "        sub_total = valor_net*0.1\n",
        "        total = sub_total+valor_net\n",
        "        print(f\"El total a pagar es de {total} con un iva de %16 y con un subtotal de {valor_net} \")\n",
        "    else:\n",
        "      print(\"ingrese un numero correcto\")\n",
        "except:\n",
        "  print(\"ingresar una cantidad valida\")\n"
      ],
      "metadata": {
        "id": "qcsepIOT0pnw",
        "colab": {
          "base_uri": "https://localhost:8080/"
        },
        "outputId": "bea34075-5348-4806-eef9-14f8a20ec70a"
      },
      "execution_count": null,
      "outputs": [
        {
          "output_type": "stream",
          "name": "stdout",
          "text": [
            "Ingrese la cantidad de agua en m3 consumida: 20\n",
            "El total a pagar es de 232.0 con un iva de %16 y con un subtotal de 200 \n"
          ]
        }
      ]
    },
    {
      "cell_type": "code",
      "source": [
        "# Jose Antonio Ceja Diaz\n",
        "# 26/08/24\n",
        "# calcular un promedio de 5 calificaciones eliminando la menor\n",
        "# CDJA_ACT3_05.py\n",
        "\n",
        "try:\n",
        "    cal1 = int(input(\"Ingrese la calificacion del examen 1: \"))\n",
        "    cal2 = int(input(\"Ingrese la calificacion del examen 2: \"))\n",
        "    cal3 = int(input(\"Ingrese la calificacion del examen 3: \"))\n",
        "    cal4 = int(input(\"Ingrese la calificacion del examen 4: \"))\n",
        "    cal5 = int(input(\"Ingrese la calificacion del examen 5: \"))\n",
        "\n",
        "    menor = cal1\n",
        "\n",
        "    if(menor > cal2):\n",
        "        menor = cal2\n",
        "    if(menor > cal3):\n",
        "        menor = cal3\n",
        "    if(menor > cal4):\n",
        "        menor = cal4\n",
        "    if(menor > cal5):\n",
        "        menor = cal5\n",
        "\n",
        "    prom = (cal1+cal2+cal3+cal4+cal5-menor)/4\n",
        "    print(f\"tu promedio fue de {prom} donde tu calificacion menor fue de {menor}\")\n",
        "except:\n",
        "  print(\"Ingresar solo numeros\")"
      ],
      "metadata": {
        "colab": {
          "base_uri": "https://localhost:8080/"
        },
        "id": "qlKSB4nzTEo9",
        "outputId": "c2dfb1bb-2b1e-42c3-f36e-a1413935b111"
      },
      "execution_count": null,
      "outputs": [
        {
          "output_type": "stream",
          "name": "stdout",
          "text": [
            "Ingrese la calificacion del examen 1: 10\n",
            "Ingrese la calificacion del examen 2: 100\n",
            "Ingrese la calificacion del examen 3: 10\n",
            "Ingrese la calificacion del examen 4: 1000\n",
            "Ingrese la calificacion del examen 5: 1000\n",
            "tu promedio fue de 527.5 donde tu calificacion menor fue de 10\n"
          ]
        }
      ]
    },
    {
      "cell_type": "code",
      "source": [
        "# Jose Antonio Ceja Diaz\n",
        "# 26/08/24\n",
        "# Calcular el precio total de un producto tomando en cuenta factores como el descuento y el producto comprado y si ademas compro otro producto junto al primero\n",
        "# CDJA_ACT3_08.py\n",
        "\n",
        "try:\n",
        "    print(\"elije el producto a comprar: 1- Computadora  2- Television  3- consola de videojuegos\")\n",
        "    eleccion = int(input())\n",
        "\n",
        "    if(eleccion == 1):\n",
        "        com = int(input(\"ingrese el valor de la computadora: \"))\n",
        "        sub_total = com * 0.10\n",
        "        total = com-sub_total\n",
        "        print(\"deseas comprar ademas una impresora con un 10% de descuento? \")\n",
        "        eleccion2 = int(input(\"1- Si 2.- no \\n\"))\n",
        "        if(eleccion2 == 1):\n",
        "            impre = int(input(\"ingrese el valor de la impresora: \"))\n",
        "            sub_Total2 = impre*0.10\n",
        "            total = (com-sub_total)+(impre-sub_Total2)\n",
        "            print(f\"la compra fue de {total} con un descuento aplicado de 5% en la computadora y un descuento aplicado de 10% en impresora\")\n",
        "            print(f\"con un precio de {com} en la computadora y un precio de {impre} para impresora\")\n",
        "        else:\n",
        "            print(f\"la compra fue de {total} con un descuento del 10% y un precio de {com}\")\n",
        "    elif(eleccion == 2):\n",
        "        tele = int(input(\"ingrese el valor de la television: \"))\n",
        "        sub_total = tele * 0.07\n",
        "        total = tele-sub_total\n",
        "        print(\"deseas comprar ademas una barra de sonido con un 15% de descuento? \")\n",
        "        eleccion2 = int(input(\"1- Si 2.- no \\n\"))\n",
        "        if(eleccion2 == 1):\n",
        "            barra = int(input(\"ingrese el valor de la barra de sonido: \"))\n",
        "            sub_Total2 = barra*0.15\n",
        "            total = (tele-sub_total)+(barra-sub_Total2)\n",
        "            print(f\"la compra fue de {total} con un descuento aplicado de 7% en la television y un descuento aplicado de 15% en la barra de sonido\")\n",
        "            print(f\"con un precio de {tele} en la computadora y un precio de {barra} para impresora\")\n",
        "        else:\n",
        "            print(f\"la compra fue de {total} con un descuento del 7% y un precio de {tele}\")\n",
        "    elif(eleccion == 3):\n",
        "        conso = int(input(\"ingrese el valor de la consola: \"))\n",
        "        sub_total = conso * 0.10\n",
        "        total = conso-sub_total\n",
        "        print(\"deseas comprar ademas una juego con un 10% de descuento? \")\n",
        "        eleccion2 = int(input(\"1- Si 2.- no \\n\"))\n",
        "        if(eleccion2 == 1):\n",
        "            juego = int(input(\"ingrese el valor del juego: \"))\n",
        "            sub_Total2 = juego*0.20\n",
        "            total = (conso-sub_total)+(juego-sub_Total2)\n",
        "            print(f\"la compra fue de {total} con un descuento aplicado de 10% en la consola y un descuento aplicado de 20% en el juego\")\n",
        "            print(f\"con un precio de {conso} en la consola y un precio de {juego} para el juego\")\n",
        "        else:\n",
        "            print(f\"la compra fue de {total} con un descuento del 10% y un precio de {conso}\")\n",
        "except:\n",
        "    print(\"ingrese una opcion valida\")\n",
        "\n",
        "\n",
        "\n",
        "\n"
      ],
      "metadata": {
        "colab": {
          "base_uri": "https://localhost:8080/"
        },
        "id": "zDrZN1_U0ZHk",
        "outputId": "74dcac75-356c-4473-b4bc-972ab6aab3d6"
      },
      "execution_count": null,
      "outputs": [
        {
          "output_type": "stream",
          "name": "stdout",
          "text": [
            "elije el producto a comprar: 1- Computadora  2- Television  3- consola de videojuegos\n",
            "3\n",
            "ingrese el valor de la consola: 400\n",
            "deseas comprar ademas una juego con un 10% de descuento? \n",
            "1- Si 2.- no \n",
            "2\n",
            "la compra fue de 360.0 con un descuento del 10% y un precio de 400\n"
          ]
        }
      ]
    },
    {
      "cell_type": "code",
      "source": [
        "# Jose Antonio Ceja Diaz\n",
        "# 26/08/24\n",
        "# calcular el costo de un producto dependiendo de la temporada del anio y el color de las tiquetas\n",
        "# CDJA_ACT3_09.py\n",
        "\n",
        "\n",
        "\n",
        "try:\n",
        "    print(\"En que estacion del anio estamos?\")\n",
        "    temp = input()\n",
        "    if(temp == \"verano\"):\n",
        "        print(\"Ingresa el precio de tu producto: \")\n",
        "        prodc = float(input())\n",
        "        print(f\"el valor de tu producto es de {prodc}\")\n",
        "    elif(temp == \"invierno\"):\n",
        "        print(\"ingrese el valor del producto:\")\n",
        "        neto = int(input())\n",
        "        print(\"tu producto tiene etiqueta roja o verde u otra? \\n1. roja 2. verde 3. otra \")\n",
        "        eleccion = int(input())\n",
        "        if(eleccion == 1 ):\n",
        "            sub_total = neto*0.30\n",
        "            total = neto-sub_total\n",
        "            print(f\"tu coste a pagar es de {total} considerando que tiene etiqueta roja (30% descuento)\")\n",
        "        elif(eleccion == 2):\n",
        "            sub_total = neto*0.15\n",
        "            total = neto-sub_total\n",
        "            print(f\"tu coste a pagar es de {total} considerando que tiene etiqueta verde (15% descuento)\")\n",
        "        else:\n",
        "          print(f\"tu coste es de {neto} pesos\")\n",
        "    elif(temp == \"primavera\" or \"otono\"):\n",
        "        print(\"ingrese el valor del producto:\")\n",
        "        neto = int(input())\n",
        "        print(\"tu producto tiene etiqueta amarilla? \\n1. si 2. no\")\n",
        "        eleccion = int(input())\n",
        "        if(eleccion == 1):\n",
        "            sub_total = neto*0.10\n",
        "            total = neto-sub_total\n",
        "            print(f\"tu coste a pagar es de {total} considerando que tiene etiqueta amarilla (10% descuento)\")\n",
        "        else:\n",
        "            print(f\"tu coste es de {neto} pesos\")\n",
        "except:\n",
        "    print(\"ingrese una opcion valida\")\n"
      ],
      "metadata": {
        "colab": {
          "base_uri": "https://localhost:8080/"
        },
        "id": "AL7PLGZQ-bc4",
        "outputId": "26176477-1368-41b8-9be4-97e2ecca9aec"
      },
      "execution_count": null,
      "outputs": [
        {
          "output_type": "stream",
          "name": "stdout",
          "text": [
            "En que estacion del anio estamos?\n",
            "verano\n",
            "Ingresa el precio de tu producto: \n",
            "300\n",
            "el valor de tu producto es de 300.0\n"
          ]
        }
      ]
    },
    {
      "cell_type": "code",
      "source": [
        "# Jose Antonio Ceja Diaz\n",
        "# 26/08/24\n",
        "# calcular el valor de un producto tomando en cuenta el dia de la semana y el tipo de menu elegido aplicando un descuento correspondiente\n",
        "# CDJA_ACT3_10.py\n",
        "\n",
        "\n",
        "try:\n",
        "    producto = float(input(\"Ingresa el valor del producto: \"))\n",
        "    print(\"En que dia de la semana estamaos?\\n 1. Lunes 2. Martes 3. Miercoles 4. Jueves 5. Viernes 6.- Sabado 7.- Domingo\")\n",
        "    dia = int(input())\n",
        "    if(dia == 1):\n",
        "        print(\"Tu producto fue el menu del dia?\\n 1.- si 2.- no\")\n",
        "        eleccion = int(input())\n",
        "        if(eleccion == 1):\n",
        "            sub_total = producto * 0.10\n",
        "            total = producto-sub_total\n",
        "            print(f\"El coste fue de {total} con un descuento del 10% por elegir un platillo del menu del dia\")\n",
        "        else:\n",
        "            print(f\"el coste fue de {producto}\")\n",
        "    elif(dia == 2):\n",
        "        print(\"Tu producto fue del menu infantil?\\n 1.- si 2.- no\")\n",
        "        eleccion = int(input())\n",
        "        if(eleccion == 1):\n",
        "            sub_total = producto * 0.20\n",
        "            total = producto-sub_total\n",
        "            print(f\"El coste fue de {total} con un descuento del 10% por elegir un platillo del menu infantil\")\n",
        "        else:\n",
        "            print(f\"el coste fue de {producto}\")\n",
        "    elif(dia == 3):\n",
        "        print(\"Tu producto fue del menu vegetariano?\\n 1.- si 2.- no\")\n",
        "        eleccion = int(input())\n",
        "        if(eleccion == 1):\n",
        "            sub_total = producto * 0.15\n",
        "            total = producto-sub_total\n",
        "            print(f\"El coste fue de {total} con un descuento del 15% por elegir un platillo del menu vegetariano\")\n",
        "        else:\n",
        "            print(f\"el coste fue de {producto}\")\n",
        "    elif(dia == 4):\n",
        "        print(\"Tu producto fue el menu del chef\\n 1.- si 2.- no\")\n",
        "        eleccion = int(input())\n",
        "        if(eleccion == 1):\n",
        "            sub_total = producto * 0.05\n",
        "            total = producto-sub_total\n",
        "            print(f\"El coste fue de {total} con un descuento del 5% por elegir un platillo del menu del chef\")\n",
        "        else:\n",
        "            print(f\"el coste fue de {producto}\")\n",
        "    elif(dia == 5):\n",
        "        print(\"Tu producto fue el menu del dia?\\n 1.- si 2.- no\")\n",
        "        eleccion = int(input())\n",
        "        if(eleccion == 1):\n",
        "            sub_total = producto * 0.05\n",
        "            total = producto-sub_total\n",
        "            print(f\"El coste fue de {total} con un descuento del 5% por elegir un platillo del menu del dia\")\n",
        "        else:\n",
        "            print(f\"el coste fue de {producto}\")\n",
        "    else:\n",
        "        print(f\"el coste fue de {producto}\")\n",
        "\n",
        "\n",
        "except:\n",
        "  print(\"ingresa una opcion valida\")"
      ],
      "metadata": {
        "colab": {
          "base_uri": "https://localhost:8080/"
        },
        "id": "LN5cIAAjJTPr",
        "outputId": "d0e2bf49-5fc7-411d-fe6e-41d76c992266"
      },
      "execution_count": null,
      "outputs": [
        {
          "output_type": "stream",
          "name": "stdout",
          "text": [
            "Ingresa el valor del producto: iji\n",
            "ingresa una opcion valida\n"
          ]
        }
      ]
    },
    {
      "cell_type": "code",
      "source": [
        "# Jose Antonio Ceja Diaz\n",
        "# 26/08/24\n",
        "# un juego donde puede jugar piedra papel o tijera con la maquina\n",
        "# CDJA_ACT3_06.py\n",
        "\n",
        "import random\n",
        "ale = random.randint(1,3)\n",
        "\n",
        "try:\n",
        "    print(\"que eliges? (piedra, papel o tijera)\")\n",
        "    eleccion = input()\n",
        "\n",
        "    if(eleccion == \"papel\"):\n",
        "        if(ale == 1):\n",
        "            ale = \"piedra\"\n",
        "            print(f\"ganaste, la maquina escogio {ale} y tu {eleccion}\")\n",
        "        elif(ale == 2):\n",
        "            ale = \"papel\"\n",
        "            print(f\"empate, la maquina escogio {ale} y tu {eleccion} \")\n",
        "        else:\n",
        "            ale = \"tijera\"\n",
        "            print(f\"perdiste, la maquina escogio {ale} y tu {eleccion}\")\n",
        "    if(eleccion == \"piedra\"):\n",
        "        if(ale == 1):\n",
        "            ale = \"piedra\"\n",
        "            print(f\"empate, la maquina escogio {ale} y tu {eleccion}\")\n",
        "        elif(ale == 2):\n",
        "            ale = \"papel\"\n",
        "            print(f\"perdiste, la maquina escogio {ale} y tu {eleccion} \")\n",
        "        else:\n",
        "            ale = \"tijera\"\n",
        "            print(f\"ganaste, la maquina escogio {ale} y tu {eleccion}\")\n",
        "    if(eleccion == \"tijera\"):\n",
        "        if(ale == 1):\n",
        "            ale = \"piedra\"\n",
        "            print(f\"perdiste, la maquina escogio {ale} y tu {eleccion}\")\n",
        "        elif(ale == 2):\n",
        "            ale = \"papel\"\n",
        "            print(f\"ganaste, la maquina escogio {ale} y tu {eleccion} \")\n",
        "        else:\n",
        "            ale = \"tijera\"\n",
        "            print(f\"empate, la maquina escogio {ale} y tu {eleccion}\")\n",
        "except:\n",
        "    print(\"ingresa una opcion valida\")\n"
      ],
      "metadata": {
        "colab": {
          "base_uri": "https://localhost:8080/"
        },
        "id": "i8NrNzYrMyss",
        "outputId": "36546bed-73d2-46b1-c4ad-95e686d1d0a6"
      },
      "execution_count": null,
      "outputs": [
        {
          "output_type": "stream",
          "name": "stdout",
          "text": [
            "que eliges? (piedra, papel o tijera)\n",
            "tijera\n",
            "ganaste, la maquina escogio papel y tu tijera \n"
          ]
        }
      ]
    },
    {
      "cell_type": "markdown",
      "source": [
        "enlace a github: https://github.com/JoseCejaD/LAB-PYTHON"
      ],
      "metadata": {
        "id": "FO0SiTl42W5h"
      }
    }
  ]
}