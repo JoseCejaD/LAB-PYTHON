{
  "nbformat": 4,
  "nbformat_minor": 0,
  "metadata": {
    "colab": {
      "provenance": [],
      "authorship_tag": "ABX9TyNNM36M83TUiICY45sShE3Q",
      "include_colab_link": true
    },
    "kernelspec": {
      "name": "python3",
      "display_name": "Python 3"
    },
    "language_info": {
      "name": "python"
    }
  },
  "cells": [
    {
      "cell_type": "markdown",
      "metadata": {
        "id": "view-in-github",
        "colab_type": "text"
      },
      "source": [
        "<a href=\"https://colab.research.google.com/github/JoseCejaD/LAB-PYTHON/blob/main/CDJA_PY_Taller1.ipynb\" target=\"_parent\"><img src=\"https://colab.research.google.com/assets/colab-badge.svg\" alt=\"Open In Colab\"/></a>"
      ]
    },
    {
      "cell_type": "code",
      "execution_count": 46,
      "metadata": {
        "colab": {
          "base_uri": "https://localhost:8080/"
        },
        "id": "-cOY_UyGlO4y",
        "outputId": "648b28c6-4992-4295-f09d-0ebe35fff944"
      },
      "outputs": [
        {
          "output_type": "stream",
          "name": "stdout",
          "text": [
            "MENU\n",
            "1. Crea diccionario \n",
            "2. Imprime diccionario\n",
            "0. Salir\n",
            "Ingresa una opcion: 1\n",
            "Ingresa una opcion: 2\n",
            "{'ID': 393977, 'APPAT': 'Velazques', 'APMAT': 'castilla', 'NOMBRE': 'jose', 'EDAD': 47, 'SEXO': 'HOMBRE'}\n",
            "{'ID': 393977, 'APPAT': 'Velazques', 'APMAT': 'castilla', 'NOMBRE': 'jose', 'EDAD': 47, 'SEXO': 'HOMBRE'}\n",
            "{'ID': 393977, 'APPAT': 'Velazques', 'APMAT': 'castilla', 'NOMBRE': 'jose', 'EDAD': 47, 'SEXO': 'HOMBRE'}\n",
            "{'ID': 393977, 'APPAT': 'Velazques', 'APMAT': 'castilla', 'NOMBRE': 'jose', 'EDAD': 47, 'SEXO': 'HOMBRE'}\n",
            "{'ID': 393977, 'APPAT': 'Velazques', 'APMAT': 'castilla', 'NOMBRE': 'jose', 'EDAD': 47, 'SEXO': 'HOMBRE'}\n",
            "{'ID': 393977, 'APPAT': 'Velazques', 'APMAT': 'castilla', 'NOMBRE': 'jose', 'EDAD': 47, 'SEXO': 'HOMBRE'}\n",
            "{'ID': 393977, 'APPAT': 'Velazques', 'APMAT': 'castilla', 'NOMBRE': 'jose', 'EDAD': 47, 'SEXO': 'HOMBRE'}\n",
            "{'ID': 393977, 'APPAT': 'Velazques', 'APMAT': 'castilla', 'NOMBRE': 'jose', 'EDAD': 47, 'SEXO': 'HOMBRE'}\n",
            "{'ID': 393977, 'APPAT': 'Velazques', 'APMAT': 'castilla', 'NOMBRE': 'jose', 'EDAD': 47, 'SEXO': 'HOMBRE'}\n",
            "{'ID': 393977, 'APPAT': 'Velazques', 'APMAT': 'castilla', 'NOMBRE': 'jose', 'EDAD': 47, 'SEXO': 'HOMBRE'}\n",
            "Ingresa una opcion: 3\n",
            "Ingresa una opcion: 0\n",
            "saliste del programa\n"
          ]
        }
      ],
      "source": [
        "# Jose Antonio Ceja Diaz\n",
        "# 3/12/24\n",
        "# pograma que cuente con un menu donde genere un dicionario e imprima los datos en forma de registro\n",
        "# CDJA_Taller1.py\n",
        "\n",
        "\n",
        "\n",
        "\n",
        "import random\n",
        "# menu\n",
        "def menu():\n",
        "    op = 1\n",
        "    band = 0\n",
        "    msg()\n",
        "    while(op!=0):\n",
        "        try:\n",
        "          op = int(input(\"Ingresa una opcion: \"))\n",
        "        except:\n",
        "          print(\"Favor de ingresar opcion valida\")\n",
        "        if(op == 1):\n",
        "          lista_dicc = []\n",
        "          for i in range(10):\n",
        "            dicc = crea_dicc()\n",
        "            lista_dicc.append(dicc)\n",
        "          band = 1\n",
        "        elif(op == 2):\n",
        "            if(band == 1):\n",
        "                impre_dicc(dicc)\n",
        "            else:\n",
        "                print(\"No hay diccionario generado\")\n",
        "        elif(op == 0):\n",
        "            print(\"saliste del programa\")\n",
        "\n",
        "\n",
        "def msg():\n",
        "    print(\"MENU\")\n",
        "    print(\"1. Crea diccionario \")\n",
        "    print(\"2. Imprime diccionario\")\n",
        "    print(\"0. Salir\")\n",
        "\n",
        "# funcion para generar valores\n",
        "def gen_datos():\n",
        "    nomh = [\"luis\",\"jose\",\"alfredo\"]\n",
        "    nomm = [\"grecia\",\"maria\",\"isabel\"]\n",
        "    appe = [\"martinez\", \"Velazques\",\"castilla\"]\n",
        "    lista=[]\n",
        "    lista.append(random.randint(1,99999) + 300000)\n",
        "    lista.append(random.choice(appe))\n",
        "    lista.append(random.choice(appe))\n",
        "    sex=random.randint(1,2)\n",
        "    if (sex == 1):\n",
        "        lista.append(random.choice(nomh))\n",
        "    else:\n",
        "        lista.append(random.choice(nomm))\n",
        "    lista.append(random.randint(10,90))\n",
        "    if (sex == 1):\n",
        "        lista.append(\"HOMBRE\")\n",
        "    else:\n",
        "        lista.append(\"MUJER\")\n",
        "    return lista\n",
        "\n",
        "# funcion para crear diccionario\n",
        "def crea_dicc():\n",
        "    claves = [\"ID\",\"APPAT\",\"APMAT\",\"NOMBRE\",\"EDAD\",\"SEXO\"]\n",
        "    valores = gen_datos()\n",
        "    dicc = dict(zip(claves,valores))\n",
        "    return dicc\n",
        "\n",
        "# funcion para imprimir\n",
        "def impre_dicc(dicc):\n",
        "    lista_dicc = []\n",
        "    for i in range(10):\n",
        "        lista_dicc.append(dicc)\n",
        "        print(dicc)\n",
        "\n",
        "menu()"
      ]
    }
  ]
}